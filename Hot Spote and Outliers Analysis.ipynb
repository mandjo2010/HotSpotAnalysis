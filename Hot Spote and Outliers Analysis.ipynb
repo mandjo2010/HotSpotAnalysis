{
 "cells": [
  {
   "cell_type": "markdown",
   "metadata": {},
   "source": [
    "## Hot Spote and Outliers Analysis\n"
   ]
  },
  {
   "cell_type": "markdown",
   "metadata": {},
   "source": [
    "#### connecting to GIS:"
   ]
  },
  {
   "cell_type": "code",
   "execution_count": null,
   "metadata": {},
   "outputs": [],
   "source": [
    "from arcgis.gis import GIS\n",
    "gis = GIS(\"home\")"
   ]
  },
  {
   "cell_type": "markdown",
   "metadata": {},
   "source": [
    "#### Now you are ready to start!"
   ]
  },
  {
   "cell_type": "markdown",
   "metadata": {},
   "source": [
    "## Add map layers to the notebook\n",
    "The following code cells were created by using the Add button from the Top Ribbon."
   ]
  },
  {
   "cell_type": "code",
   "execution_count": null,
   "metadata": {},
   "outputs": [],
   "source": [
    "# Item Added From Toolbar\n",
    "# Title: US Counties MOOC | Type: Feature Service | Owner: EsriTrainingSvc\n",
    "input_SNAPdata = gis.content.get(\"ed625887f6c1416ebc9d48e26dd03664\")\n",
    "input_SNAPdata"
   ]
  },
  {
   "cell_type": "code",
   "execution_count": null,
   "metadata": {},
   "outputs": [],
   "source": [
    "# Item Added From Toolbar\n",
    "# Title: US States MOOC | Type: Feature Service | Owner: EsriTrainingSvc\n",
    "state_boundaries = gis.content.get(\"c453997561a5460091b796262db137cb\")\n",
    "state_boundaries"
   ]
  },
  {
   "cell_type": "markdown",
   "metadata": {},
   "source": [
    "## Create a map in the notebook"
   ]
  },
  {
   "cell_type": "code",
   "execution_count": null,
   "metadata": {},
   "outputs": [],
   "source": [
    "#Change the zoom level of the default map to focus on the contiguous United States\n",
    "input_display_map = gis.map('United States of America', zoomlevel =4)\n",
    "\n",
    "#Change the basemap to a darker theme\n",
    "input_display_map.basemap ='dark-gray'\n",
    "\n",
    "#Add the SNAP participation and state boundaries layers to the map\n",
    "input_display_map.add_layer(input_SNAPdata)\n",
    "input_display_map.add_layer(state_boundaries)\n",
    "\n",
    "#Turn on the legend on the map\n",
    "input_display_map.legend = True\n",
    "\n",
    "#Display the map\n",
    "input_display_map"
   ]
  },
  {
   "cell_type": "markdown",
   "metadata": {},
   "source": [
    "## Run a Hot Spot Analysis\n",
    "The following code cell was created by using the Analysis button from the Top Ribbon."
   ]
  },
  {
   "cell_type": "code",
   "execution_count": null,
   "metadata": {},
   "outputs": [],
   "source": [
    "from arcgis import features\n",
    "features.analyze_patterns.find_hot_spots?"
   ]
  },
  {
   "cell_type": "code",
   "execution_count": null,
   "metadata": {},
   "outputs": [],
   "source": [
    "#Run Hot Spot Analysis\n",
    "HS_result = features.analyze_patterns.find_hot_spots(\n",
    "    analysis_layer = input_SNAPdata,\n",
    "    analysis_field=\"SNAPRate\",\n",
    "    divided_by_field=None,\n",
    "    bounding_polygon_layer=None,\n",
    "    aggregation_polygon_layer=None,\n",
    "    output_name= \"SNAPHotSpots_BORE_3282020\",\n",
    "    context=None,\n",
    "    gis=None,\n",
    "    estimate=False,\n",
    "    shape_type=None,\n",
    "    cell_size=None,\n",
    "    cell_size_unit=None,\n",
    "    distance_band=100,\n",
    "    distance_band_unit=\"kilometers\",\n",
    "    future=False,    \n",
    ")\n"
   ]
  },
  {
   "cell_type": "code",
   "execution_count": null,
   "metadata": {},
   "outputs": [],
   "source": [
    "#Display the Hot Spot Analysis output on a map\n",
    "\n",
    "#Change the zoom level of the default map to focus on the contiguous United States\n",
    "hotspot_display_map = gis.map('United States of America', zoomlevel =4)\n",
    "\n",
    "#Change the basemap to a darker theme\n",
    "hotspot_display_map.basemap ='dark-gray'\n",
    "\n",
    "#Add the Hot Spot Analysis result layer to the map\n",
    "hotspot_display_map.add_layer(HS_result)\n",
    "\n",
    "#Display the legend\n",
    "hotspot_display_map.legend = True\n",
    "\n",
    "#Display the map\n",
    "hotspot_display_map"
   ]
  },
  {
   "cell_type": "markdown",
   "metadata": {},
   "source": [
    "## Run an Outlier Analysis\n",
    "The following code cell was created by using the Analysis button from the Top Ribbon."
   ]
  },
  {
   "cell_type": "code",
   "execution_count": null,
   "metadata": {},
   "outputs": [],
   "source": [
    "from arcgis import features\n",
    "features.analyze_patterns.find_outliers?"
   ]
  },
  {
   "cell_type": "code",
   "execution_count": null,
   "metadata": {},
   "outputs": [],
   "source": [
    "OA_result = features.analyze_patterns.find_outliers(\n",
    "    analysis_layer = input_SNAPdata,\n",
    "    analysis_field=\"SNAPRate\",\n",
    "    divided_by_field=None,\n",
    "    bounding_polygon_layer=None,\n",
    "    aggregation_polygon_layer=None,\n",
    "    permutations=None,\n",
    "    shape_type=None,\n",
    "    cell_size=None,\n",
    "    cell_units=None,\n",
    "    distance_band=100,\n",
    "    band_units=\"kilometers\",\n",
    "    output_name=\"SNAPOutlier_BORE_3282020\",\n",
    "    context=None,\n",
    "    gis=None,\n",
    "    estimate=False,\n",
    "    future=False,\n",
    ")\n"
   ]
  },
  {
   "cell_type": "code",
   "execution_count": null,
   "metadata": {},
   "outputs": [],
   "source": [
    "# Display the Outlier Analysis output on a map\n",
    "\n",
    "#Change the zoom level of the default map to focus on the contiguous United States\n",
    "outlier_display_map = gis.map('United States of America', zoomlevel =4)\n",
    "\n",
    "#Change the basemap to a darker theme\n",
    "outlier_display_map.basemap ='dark-gray'\n",
    "\n",
    "#Add the Outlier Analysis result layer to the map\n",
    "#NOTE: The result of the Outlier Analysis returns a dictionary with two items: a result layer and process messages.\n",
    "#NOTE: To display the result layer on the map, use the key 'outliers_result_layer.' \n",
    "outlier_display_map.add_layer(OA_result['outliers_result_layer'])\n",
    "\n",
    "#Display the legend\n",
    "outlier_display_map.legend = True\n",
    "\n",
    "#Display the map\n",
    "outlier_display_map"
   ]
  }
 ],
 "metadata": {
  "esriNotebookRuntime": {
   "notebookRuntimeName": "ArcGIS Notebook Python 3 Advanced",
   "notebookRuntimeVersion": "3.0"
  },
  "kernelspec": {
   "display_name": "Python 3",
   "language": "python",
   "name": "python3"
  },
  "language_info": {
   "codemirror_mode": {
    "name": "ipython",
    "version": 3
   },
   "file_extension": ".py",
   "mimetype": "text/x-python",
   "name": "python",
   "nbconvert_exporter": "python",
   "pygments_lexer": "ipython3",
   "version": "3.7.3"
  }
 },
 "nbformat": 4,
 "nbformat_minor": 2
}
